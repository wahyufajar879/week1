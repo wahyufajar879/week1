{
  "nbformat": 4,
  "nbformat_minor": 0,
  "metadata": {
    "colab": {
      "name": "week2.ipynb",
      "provenance": [],
      "authorship_tag": "ABX9TyPI+wLsg/Y2x+hjXhHy4y6l",
      "include_colab_link": true
    },
    "kernelspec": {
      "name": "python3",
      "display_name": "Python 3"
    },
    "language_info": {
      "name": "python"
    }
  },
  "cells": [
    {
      "cell_type": "markdown",
      "metadata": {
        "id": "view-in-github",
        "colab_type": "text"
      },
      "source": [
        "<a href=\"https://colab.research.google.com/github/wahyufajar879/week1/blob/main/week2.ipynb\" target=\"_parent\"><img src=\"https://colab.research.google.com/assets/colab-badge.svg\" alt=\"Open In Colab\"/></a>"
      ]
    },
    {
      "cell_type": "code",
      "execution_count": 21,
      "metadata": {
        "id": "3rWQNRS3__DQ",
        "outputId": "a6471597-c59b-4052-8c48-001d7cb35426",
        "colab": {
          "base_uri": "https://localhost:8080/"
        }
      },
      "outputs": [
        {
          "output_type": "stream",
          "name": "stdout",
          "text": [
            "Drive already mounted at /content/drive; to attempt to forcibly remount, call drive.mount(\"/content/drive\", force_remount=True).\n"
          ]
        }
      ],
      "source": [
        "from google.colab import drive\n",
        "\n",
        "# Accessing my google drive\n",
        "drive.mount('/content/drive')"
      ]
    },
    {
      "cell_type": "code",
      "source": [
        "import cv2 as cv\n",
        "from google.colab.patches import cv2_imshow\n",
        "from skimage import io\n",
        "import matplotlib.pyplot as plt\n",
        "import numpy as np\n",
        "img = cv.imread('/content/drive/Mydrive/PVCK_MM/Images/kitten01.jpg') \n",
        "plt.imshow(img)"
      ],
      "metadata": {
        "id": "VhNBPL7kBch3"
      },
      "execution_count": null,
      "outputs": []
    },
    {
      "cell_type": "code",
      "source": [
        "img2 = img\n",
        "img3 = cv.cvtColor(img, cv.COLOR_BGR2RGB)\n",
        "plt.imshow(img3)"
      ],
      "metadata": {
        "id": "7JpeVqPTGZER"
      },
      "execution_count": null,
      "outputs": []
    },
    {
      "cell_type": "code",
      "source": [
        "img_gray = cv.imread('/content/drive/Mydrive/PCVK_MM/Image/kitten01.jpg', cv.IMREAD_GRAYSCALE)\n",
        "plt.imshow(img_gray)"
      ],
      "metadata": {
        "id": "IENN1BnEGypR"
      },
      "execution_count": null,
      "outputs": []
    },
    {
      "cell_type": "code",
      "source": [
        "plt.imshow(img_gray, cmap-'gray')"
      ],
      "metadata": {
        "id": "V0OqFe0hHfiX"
      },
      "execution_count": null,
      "outputs": []
    },
    {
      "cell_type": "code",
      "source": [
        "plt.imshow(img_gray, cmap='magma')"
      ],
      "metadata": {
        "id": "6y8Q2YDbHnpr"
      },
      "execution_count": null,
      "outputs": []
    },
    {
      "cell_type": "code",
      "source": [
        "img4 = cv.resize(cv.cvtColor(img,cvt.COLOR_BGR2RGB), (512,1024))\n",
        "plt.imshow(img4)"
      ],
      "metadata": {
        "id": "r2nPtDGzHuex"
      },
      "execution_count": null,
      "outputs": []
    },
    {
      "cell_type": "code",
      "source": [
        "img5 = cv.flip(cv.cvtColor(img, cv.COLOR_BGR2RGB),0)\n",
        "\n",
        "\n",
        "\n",
        "\n",
        "fig = plt.figure(figsize=(10,10))\n",
        "ax = fig.add_subplot(111)\n",
        "ax. imshow(img5)"
      ],
      "metadata": {
        "id": "lzuzV_BBIBYu"
      },
      "execution_count": null,
      "outputs": []
    },
    {
      "cell_type": "code",
      "source": [
        "black_img = np.zeros(shape=(512,512,3), dtype=np.int16)\n",
        "plt.imshow(black_img)"
      ],
      "metadata": {
        "id": "6z0Mxkq4Im5k"
      },
      "execution_count": null,
      "outputs": []
    },
    {
      "cell_type": "code",
      "source": [
        "cv.rectangle(black_img,pt1=(384,0),pt2=(510,510),color(0,255,0),thickness=10)\n",
        "plt.imshow(black_img)"
      ],
      "metadata": {
        "id": "MXVldTs_I5Ps"
      },
      "execution_count": null,
      "outputs": []
    },
    {
      "cell_type": "code",
      "source": [
        "cv.rectangle(black_img,pt1=(200,200),pt2=(300,300),color=(0,0,255),thickness=15)\n",
        "plt.imshow(black_img)"
      ],
      "metadata": {
        "id": "Z-sdrdxGJSld"
      },
      "execution_count": null,
      "outputs": []
    },
    {
      "cell_type": "code",
      "source": [
        "cv.circle(black_img,center=(100,100),radius=50,color=(255,0,0),thickness=8)\n",
        "plt.imshow(black_img)"
      ],
      "metadata": {
        "id": "See9YR3dJsBh"
      },
      "execution_count": null,
      "outputs": []
    },
    {
      "cell_type": "code",
      "source": [
        "cv.line(black_img,pt1=(0,0),pt2=(512,512),color=(255,255,255),thickness=5)\n",
        "plt.imshow(black_img)"
      ],
      "metadata": {
        "id": "AahceeOzJ_A1"
      },
      "execution_count": null,
      "outputs": []
    },
    {
      "cell_type": "code",
      "source": [
        "font =cv.FONT_HERSHEY_SIMPLEX\n",
        "cv.putText(black_img,text='HELLO',org-(10,500), fontface=font,fontscale=4,color=(255,255,0),thickness=2,lineType=cv LINE_AA)\n",
        "plt.imshow(black_img)"
      ],
      "metadata": {
        "id": "feeF7uFcKQGm"
      },
      "execution_count": null,
      "outputs": []
    },
    {
      "cell_type": "code",
      "source": [
        "black_img2=np.zeros(shape=(512,512,3),dtype=np.int32)\n",
        "plt.imshow(black_img2)"
      ],
      "metadata": {
        "id": "kwshZx6SLA2S"
      },
      "execution_count": null,
      "outputs": []
    },
    {
      "cell_type": "code",
      "source": [
        "vertices=np.arrat([[100,300],[200,200],[400,300],[200,400]],dtype=np.int32)\n",
        "vertices"
      ],
      "metadata": {
        "id": "5UBMRZGmLWoH"
      },
      "execution_count": null,
      "outputs": []
    },
    {
      "cell_type": "code",
      "source": [
        "pts = vertices.reshape((-1,1,2))\n",
        "pts"
      ],
      "metadata": {
        "id": "EuXajkbmLWbG"
      },
      "execution_count": null,
      "outputs": []
    },
    {
      "cell_type": "code",
      "source": [
        "cv.polylines(black_img2,[pts],isClosed=True,color=(255,0,0),thickness=5)\n",
        "plt.imshow(black_img2)"
      ],
      "metadata": {
        "id": "cbrQh5z8LWOR"
      },
      "execution_count": null,
      "outputs": []
    }
  ]
}